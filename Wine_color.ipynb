{
 "cells": [
  {
   "cell_type": "markdown",
   "metadata": {},
   "source": [
    "## Can we predict whether a wine is red or white based on the wine's physiochemical properties? Which model is best for such a classification? \n",
    "\n",
    "### Here I used logistic regression to start with. Then I used the K Nearest Neighbors Classifier and fine-tuned the model's hyperparameters. "
   ]
  },
  {
   "cell_type": "code",
   "execution_count": 89,
   "metadata": {
    "collapsed": true
   },
   "outputs": [],
   "source": [
    "#imports\n",
    "import numpy as np\n",
    "import pandas as pd\n",
    "from pandas import Series,DataFrame\n",
    "\n",
    "import matplotlib as mpl\n",
    "import matplotlib.pyplot as plt\n",
    "import seaborn as sns\n",
    "sns.set_style('whitegrid')\n",
    "%matplotlib inline "
   ]
  },
  {
   "cell_type": "code",
   "execution_count": 90,
   "metadata": {
    "collapsed": true
   },
   "outputs": [],
   "source": [
    "# read the data into a pandas dataframe\n",
    "wine_df = pd.read_csv('wine.csv')"
   ]
  },
  {
   "cell_type": "code",
   "execution_count": 91,
   "metadata": {
    "collapsed": false
   },
   "outputs": [
    {
     "data": {
      "text/html": [
       "<div style=\"max-height:1000px;max-width:1500px;overflow:auto;\">\n",
       "<table border=\"1\" class=\"dataframe\">\n",
       "  <thead>\n",
       "    <tr style=\"text-align: right;\">\n",
       "      <th></th>\n",
       "      <th>fixed_acidity</th>\n",
       "      <th>volatile_acidity</th>\n",
       "      <th>citric_acid</th>\n",
       "      <th>residual_sugar</th>\n",
       "      <th>chlorides</th>\n",
       "      <th>free_sulfur_dioxide</th>\n",
       "      <th>total_sulfur_dioxide</th>\n",
       "      <th>density</th>\n",
       "      <th>pH</th>\n",
       "      <th>sulphates</th>\n",
       "      <th>alcohol</th>\n",
       "      <th>quality</th>\n",
       "      <th>color</th>\n",
       "      <th>is_red</th>\n",
       "      <th>high_quality</th>\n",
       "    </tr>\n",
       "  </thead>\n",
       "  <tbody>\n",
       "    <tr>\n",
       "      <th>0</th>\n",
       "      <td>7.4</td>\n",
       "      <td>0.70</td>\n",
       "      <td>0.00</td>\n",
       "      <td>1.9</td>\n",
       "      <td>0.076</td>\n",
       "      <td>11</td>\n",
       "      <td>34</td>\n",
       "      <td>0.9978</td>\n",
       "      <td>3.51</td>\n",
       "      <td>0.56</td>\n",
       "      <td>9.4</td>\n",
       "      <td>5</td>\n",
       "      <td>red</td>\n",
       "      <td>1</td>\n",
       "      <td>0</td>\n",
       "    </tr>\n",
       "    <tr>\n",
       "      <th>1</th>\n",
       "      <td>7.8</td>\n",
       "      <td>0.88</td>\n",
       "      <td>0.00</td>\n",
       "      <td>2.6</td>\n",
       "      <td>0.098</td>\n",
       "      <td>25</td>\n",
       "      <td>67</td>\n",
       "      <td>0.9968</td>\n",
       "      <td>3.20</td>\n",
       "      <td>0.68</td>\n",
       "      <td>9.8</td>\n",
       "      <td>5</td>\n",
       "      <td>red</td>\n",
       "      <td>1</td>\n",
       "      <td>0</td>\n",
       "    </tr>\n",
       "    <tr>\n",
       "      <th>2</th>\n",
       "      <td>7.8</td>\n",
       "      <td>0.76</td>\n",
       "      <td>0.04</td>\n",
       "      <td>2.3</td>\n",
       "      <td>0.092</td>\n",
       "      <td>15</td>\n",
       "      <td>54</td>\n",
       "      <td>0.9970</td>\n",
       "      <td>3.26</td>\n",
       "      <td>0.65</td>\n",
       "      <td>9.8</td>\n",
       "      <td>5</td>\n",
       "      <td>red</td>\n",
       "      <td>1</td>\n",
       "      <td>0</td>\n",
       "    </tr>\n",
       "    <tr>\n",
       "      <th>3</th>\n",
       "      <td>11.2</td>\n",
       "      <td>0.28</td>\n",
       "      <td>0.56</td>\n",
       "      <td>1.9</td>\n",
       "      <td>0.075</td>\n",
       "      <td>17</td>\n",
       "      <td>60</td>\n",
       "      <td>0.9980</td>\n",
       "      <td>3.16</td>\n",
       "      <td>0.58</td>\n",
       "      <td>9.8</td>\n",
       "      <td>6</td>\n",
       "      <td>red</td>\n",
       "      <td>1</td>\n",
       "      <td>0</td>\n",
       "    </tr>\n",
       "    <tr>\n",
       "      <th>4</th>\n",
       "      <td>7.4</td>\n",
       "      <td>0.70</td>\n",
       "      <td>0.00</td>\n",
       "      <td>1.9</td>\n",
       "      <td>0.076</td>\n",
       "      <td>11</td>\n",
       "      <td>34</td>\n",
       "      <td>0.9978</td>\n",
       "      <td>3.51</td>\n",
       "      <td>0.56</td>\n",
       "      <td>9.4</td>\n",
       "      <td>5</td>\n",
       "      <td>red</td>\n",
       "      <td>1</td>\n",
       "      <td>0</td>\n",
       "    </tr>\n",
       "  </tbody>\n",
       "</table>\n",
       "</div>"
      ],
      "text/plain": [
       "   fixed_acidity  volatile_acidity  citric_acid  residual_sugar  chlorides  \\\n",
       "0            7.4              0.70         0.00             1.9      0.076   \n",
       "1            7.8              0.88         0.00             2.6      0.098   \n",
       "2            7.8              0.76         0.04             2.3      0.092   \n",
       "3           11.2              0.28         0.56             1.9      0.075   \n",
       "4            7.4              0.70         0.00             1.9      0.076   \n",
       "\n",
       "   free_sulfur_dioxide  total_sulfur_dioxide  density    pH  sulphates  \\\n",
       "0                   11                    34   0.9978  3.51       0.56   \n",
       "1                   25                    67   0.9968  3.20       0.68   \n",
       "2                   15                    54   0.9970  3.26       0.65   \n",
       "3                   17                    60   0.9980  3.16       0.58   \n",
       "4                   11                    34   0.9978  3.51       0.56   \n",
       "\n",
       "   alcohol  quality color  is_red  high_quality  \n",
       "0      9.4        5   red       1             0  \n",
       "1      9.8        5   red       1             0  \n",
       "2      9.8        5   red       1             0  \n",
       "3      9.8        6   red       1             0  \n",
       "4      9.4        5   red       1             0  "
      ]
     },
     "execution_count": 91,
     "metadata": {},
     "output_type": "execute_result"
    }
   ],
   "source": [
    "# show the first few rows of the dataframe\n",
    "wine_df.head()"
   ]
  },
  {
   "cell_type": "code",
   "execution_count": 92,
   "metadata": {
    "collapsed": true
   },
   "outputs": [],
   "source": [
    "# I used statsmodels to run a logistic regression model so that we can identify the relevant features\n",
    "#imports \n",
    "import statsmodels.api as sm"
   ]
  },
  {
   "cell_type": "code",
   "execution_count": 96,
   "metadata": {
    "collapsed": false
   },
   "outputs": [],
   "source": [
    "# specify all of the features\n",
    "X = wine_df.columns[:10]"
   ]
  },
  {
   "cell_type": "code",
   "execution_count": 98,
   "metadata": {
    "collapsed": false
   },
   "outputs": [
    {
     "name": "stdout",
     "output_type": "stream",
     "text": [
      "Optimization terminated successfully.\n",
      "         Current function value: 0.047047\n",
      "         Iterations 11\n",
      "                           Logit Regression Results                           \n",
      "==============================================================================\n",
      "Dep. Variable:                 is_red   No. Observations:                 6497\n",
      "Model:                          Logit   Df Residuals:                     6487\n",
      "Method:                           MLE   Df Model:                            9\n",
      "Date:                Thu, 14 May 2015   Pseudo R-squ.:                  0.9157\n",
      "Time:                        13:08:06   Log-Likelihood:                -305.66\n",
      "converged:                       True   LL-Null:                       -3625.5\n",
      "                                        LLR p-value:                     0.000\n",
      "========================================================================================\n",
      "                           coef    std err          z      P>|z|      [95.0% Conf. Int.]\n",
      "----------------------------------------------------------------------------------------\n",
      "fixed_acidity            1.6497      0.135     12.258      0.000         1.386     1.913\n",
      "volatile_acidity        11.2630      0.844     13.338      0.000         9.608    12.918\n",
      "citric_acid             -1.7933      0.968     -1.853      0.064        -3.690     0.104\n",
      "residual_sugar          -0.0846      0.048     -1.755      0.079        -0.179     0.010\n",
      "chlorides               40.3813      3.311     12.197      0.000        33.892    46.870\n",
      "free_sulfur_dioxide      0.0512      0.012      4.293      0.000         0.028     0.075\n",
      "total_sulfur_dioxide    -0.0630      0.004    -14.521      0.000        -0.071    -0.054\n",
      "density                -50.4529      3.620    -13.936      0.000       -57.549   -43.357\n",
      "pH                       9.4314      0.870     10.836      0.000         7.726    11.137\n",
      "sulphates                8.2650      0.847      9.755      0.000         6.604     9.926\n",
      "========================================================================================\n"
     ]
    }
   ],
   "source": [
    "# run the model\n",
    "logit = sm.Logit(wine_df['is_red'], wine_df[X])\n",
    " \n",
    "# fit the model\n",
    "result = logit.fit()\n",
    "\n",
    "# print the summary tables \n",
    "print result.summary()"
   ]
  },
  {
   "cell_type": "markdown",
   "metadata": {},
   "source": [
    "Here we find that all of the features were significantly related to our wine color prediction, except for citric_acid and residual_sugar. But, even with those features in our mode, we have a 91.6% r-squared value. So, for now, I will leave all of the features in the model. "
   ]
  },
  {
   "cell_type": "markdown",
   "metadata": {},
   "source": [
    "Let's see if KNN classifier would do a better job! "
   ]
  },
  {
   "cell_type": "code",
   "execution_count": 100,
   "metadata": {
    "collapsed": true
   },
   "outputs": [],
   "source": [
    "# Here I use scikit-learn to fit a KNN classifier because it allows you to tune the hyperparameters of the model\n",
    "# imports \n",
    "import sklearn\n",
    "from sklearn.neighbors import KNeighborsClassifier"
   ]
  },
  {
   "cell_type": "code",
   "execution_count": 101,
   "metadata": {
    "collapsed": false
   },
   "outputs": [],
   "source": [
    "# specify your target variable\n",
    "Y = wine_df['is_red']"
   ]
  },
  {
   "cell_type": "code",
   "execution_count": 103,
   "metadata": {
    "collapsed": false
   },
   "outputs": [
    {
     "data": {
      "text/plain": [
       "0.95428659381252889"
      ]
     },
     "execution_count": 103,
     "metadata": {},
     "output_type": "execute_result"
    }
   ],
   "source": [
    "# run the classifier with K = 5 to start with... \n",
    "clf = KNeighborsClassifier(n_neighbors=5)\n",
    "clf.fit(wine_df[X], Y)\n",
    "clf.score(wine_df[X], Y)"
   ]
  },
  {
   "cell_type": "markdown",
   "metadata": {},
   "source": [
    "A 95% score is really great! But, remember that this uses the whole dataset for training. The score could be different when the model is used to predict new data. Also, how do we know which value of K is appropriate? \n",
    "\n",
    "For this, we can manually divide up the data into training and testing and trying different values of K (generally best to use odd numbers) and see how the model accuracy changes. "
   ]
  },
  {
   "cell_type": "code",
   "execution_count": 104,
   "metadata": {
    "collapsed": false
   },
   "outputs": [],
   "source": [
    "# divide your data into training and testing manually so that you can decide which value of Kneighbors (n) is \n",
    "# appropriate \n",
    "\n",
    "test_idx = np.random.uniform(0, 1, len(wine_df)) <= 0.3\n",
    "train = wine_df[test_idx==True]\n",
    "test = wine_df[test_idx==False]"
   ]
  },
  {
   "cell_type": "code",
   "execution_count": 105,
   "metadata": {
    "collapsed": true
   },
   "outputs": [],
   "source": [
    "features= ['fixed_acidity','volatile_acidity','citric_acid','residual_sugar','chlorides','free_sulfur_dioxide',\n",
    "           'total_sulfur_dioxide','density','pH','sulphates']"
   ]
  },
  {
   "cell_type": "code",
   "execution_count": 108,
   "metadata": {
    "collapsed": false
   },
   "outputs": [
    {
     "name": "stdout",
     "output_type": "stream",
     "text": [
      "Neighbors: 1, Accuracy: 0.914786\n",
      "Neighbors: 3, Accuracy: 0.922015\n",
      "Neighbors: 5, Accuracy: 0.928368\n",
      "Neighbors: 7, Accuracy: 0.930559\n",
      "Neighbors: 9, Accuracy: 0.929463\n",
      "Neighbors: 11, Accuracy: 0.929901\n",
      "Neighbors: 13, Accuracy: 0.931216\n",
      "Neighbors: 15, Accuracy: 0.932749\n",
      "Neighbors: 17, Accuracy: 0.932749\n",
      "Neighbors: 19, Accuracy: 0.933406\n",
      "Neighbors: 21, Accuracy: 0.933625\n",
      "Neighbors: 23, Accuracy: 0.933625\n",
      "Neighbors: 25, Accuracy: 0.934283\n",
      "Neighbors: 27, Accuracy: 0.934283\n",
      "Neighbors: 29, Accuracy: 0.933406\n",
      "Neighbors: 31, Accuracy: 0.933625\n",
      "Neighbors: 33, Accuracy: 0.933844\n",
      "Neighbors: 35, Accuracy: 0.934502\n",
      "Neighbors: 37, Accuracy: 0.933625\n",
      "Neighbors: 39, Accuracy: 0.933406\n",
      "Neighbors: 41, Accuracy: 0.933406\n",
      "Neighbors: 43, Accuracy: 0.933187\n",
      "Neighbors: 45, Accuracy: 0.933625\n",
      "Neighbors: 47, Accuracy: 0.933187\n",
      "Neighbors: 49, Accuracy: 0.934064\n"
     ]
    },
    {
     "data": {
      "image/png": "[encoded data removed]",
      "text/plain": [
       "<matplotlib.figure.Figure at 0x1389b6b10>"
      ]
     },
     "metadata": {},
     "output_type": "display_data"
    }
   ],
   "source": [
    "# This function will print model accuracy on test data as a function of n and plot this relationship \n",
    "\n",
    "results = []\n",
    "for n in range(1, 51, 2):\n",
    "    clf = KNeighborsClassifier(n_neighbors=n)\n",
    "    clf.fit(train[features], train['is_red'])\n",
    "    preds = clf.predict(test[features])\n",
    "    accuracy = np.where(preds==test['is_red'], 1, 0).sum() / float(len(test))\n",
    "    print \"Neighbors: %d, Accuracy: %3f\" % (n, accuracy)\n",
    " \n",
    "    results.append([n, accuracy])\n",
    " \n",
    "results = pd.DataFrame(results, columns=[\"n\", \"accuracy\"])\n",
    "\n",
    "plt.rcParams['figure.figsize'] = (10.0, 8.0)\n",
    "plt.plot(results.n, results.accuracy)\n",
    "plt.title(\"Accuracy with Increasing K\")\n",
    "plt.show()"
   ]
  },
  {
   "cell_type": "markdown",
   "metadata": {},
   "source": [
    "You can see that the model accuracy asymptotes at around 0.934ish, when n = 13. So, I will choose n = 13. "
   ]
  },
  {
   "cell_type": "markdown",
   "metadata": {},
   "source": [
    "One more hyperparameter that is relevant is how we calculate the euclidean distance. You can adjust this parameter by specifying the \"weights\". You can choose between uniform, distance, and log weights. Here I repeat the above step and identify which weight type gives the highest model accuracy score."
   ]
  },
  {
   "cell_type": "code",
   "execution_count": 110,
   "metadata": {
    "collapsed": false
   },
   "outputs": [
    {
     "name": "stdout",
     "output_type": "stream",
     "text": [
      "Weights: uniform, Accuracy: 0.931216\n",
      "Weights: distance, Accuracy: 0.938226\n",
      "Weights: <function <lambda> at 0x1384f8848>, Accuracy: 0.891566\n",
      "                        weight_method  accuracy\n",
      "0                             uniform  0.931216\n",
      "1                            distance  0.938226\n",
      "2  <function <lambda> at 0x1384f8848>  0.891566\n"
     ]
    }
   ],
   "source": [
    "results = []\n",
    "for w in ['uniform', 'distance', lambda x: np.log(x)]:\n",
    "    clf = KNeighborsClassifier(weights=w, n_neighbors = 13)\n",
    "    w = str(w)\n",
    "    clf.fit(train[features], train['is_red'])\n",
    "    preds = clf.predict(test[features])\n",
    "    accuracy = np.where(preds==test['is_red'], 1, 0).sum() / float(len(test))\n",
    "    print \"Weights: %s, Accuracy: %3f\" % (w, accuracy)\n",
    " \n",
    "    results.append([w, accuracy])\n",
    " \n",
    "results = pd.DataFrame(results, columns=[\"weight_method\", \"accuracy\"])\n",
    "print results"
   ]
  },
  {
   "cell_type": "markdown",
   "metadata": {},
   "source": [
    "You can see that with n = 13 and weights = distance, we get the best accuracy score = 0.938"
   ]
  },
  {
   "cell_type": "markdown",
   "metadata": {},
   "source": [
    "Now we can test our model more rigorously using a 10-fold cross-validation "
   ]
  },
  {
   "cell_type": "code",
   "execution_count": 114,
   "metadata": {
    "collapsed": false
   },
   "outputs": [
    {
     "name": "stdout",
     "output_type": "stream",
     "text": [
      "[ 0.90307692  0.92153846  0.95230769  0.94153846  0.94        0.93692308\n",
      "  0.95692308  0.93076923  0.93528505  0.95216049]\n",
      "0.937052247083\n"
     ]
    }
   ],
   "source": [
    "# imports for cross validation\n",
    "from sklearn.cross_validation import cross_val_score\n",
    "\n",
    "# evaluate the model using 10-fold cross-validation\n",
    "scores = cross_val_score(KNeighborsClassifier(n_neighbors = 13, \n",
    "                        weights = 'distance'),wine_df[X], Y, scoring='accuracy', cv=10)\n",
    "print scores\n",
    "print scores.mean()"
   ]
  },
  {
   "cell_type": "markdown",
   "metadata": {},
   "source": [
    "Great! The model is still performing with a mean accuracy of 0.937! "
   ]
  },
  {
   "cell_type": "code",
   "execution_count": null,
   "metadata": {
    "collapsed": true
   },
   "outputs": [],
   "source": []
  }
 ],
 "metadata": {
  "kernelspec": {
   "display_name": "Python 2",
   "language": "python",
   "name": "python2"
  },
  "language_info": {
   "codemirror_mode": {
    "name": "ipython",
    "version": 2
   },
   "file_extension": ".py",
   "mimetype": "text/x-python",
   "name": "python",
   "nbconvert_exporter": "python",
   "pygments_lexer": "ipython2",
   "version": "2.7.9"
  }
 },
 "nbformat": 4,
 "nbformat_minor": 0
}
